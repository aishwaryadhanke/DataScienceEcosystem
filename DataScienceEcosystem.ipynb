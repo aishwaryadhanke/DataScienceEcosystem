{
 "cells": [
  {
   "cell_type": "markdown",
   "id": "56ae29ab-b9c8-4ed9-ad91-3d9b84481fd6",
   "metadata": {},
   "source": [
    "Data Science Tools and Ecosystem"
   ]
  },
  {
   "cell_type": "code",
   "execution_count": 2,
   "id": "15bc788b-0e7c-4f27-a78b-f49be2df2b1d",
   "metadata": {},
   "outputs": [],
   "source": [
    "# Exercise 3 - Create a markdown cell for an introduction\n"
   ]
  },
  {
   "cell_type": "markdown",
   "id": "b447b3f6-8aeb-43e5-88c0-9895c746f6ed",
   "metadata": {},
   "source": [
    "In this notebook, Data Science Tools and Ecosystem are summarized."
   ]
  },
  {
   "cell_type": "code",
   "execution_count": 5,
   "id": "da266a3c-1849-4709-ac95-158eea95a326",
   "metadata": {},
   "outputs": [],
   "source": [
    "# Exercise 4 - Create a markdown cell to list data science languages"
   ]
  },
  {
   "cell_type": "markdown",
   "id": "75710938-4fd9-4bda-a78d-7d6d09d4e4e2",
   "metadata": {},
   "source": [
    "Some of the popular languages that Data Scientists use are:\n",
    "\n",
    "1. Python  \n",
    "2. R  \n",
    "3. SQL  \n",
    "4. Julia  \n",
    "5. Java  \n"
   ]
  },
  {
   "cell_type": "code",
   "execution_count": 8,
   "id": "f15252d1-433d-4e62-a898-d8440ca77825",
   "metadata": {},
   "outputs": [],
   "source": [
    "# Exercise 5 - Create a markdown cell to list data science libraries"
   ]
  },
  {
   "cell_type": "markdown",
   "id": "edb08bdc-6159-4c67-94a0-b4cbe92195fd",
   "metadata": {},
   "source": [
    "Some of the commonly used libraries used by Data Scientists include:\n",
    "\n",
    "1. Pandas  \n",
    "2. NumPy  \n",
    "3. Scikit-learn  \n",
    "4. TensorFlow  \n",
    "5. Matplotlib  \n"
   ]
  },
  {
   "cell_type": "code",
   "execution_count": 11,
   "id": "4dc21373-6114-4779-bdd4-37303947beed",
   "metadata": {},
   "outputs": [],
   "source": [
    "# Exercise 6 - Create a markdown cell with a table of Data Science tools"
   ]
  },
  {
   "cell_type": "markdown",
   "id": "a8f6aa1a-8fb9-495c-affd-40c94964170c",
   "metadata": {},
   "source": [
    "| Data Science Tools |\n",
    "|--------------------|\n",
    "| Jupyter Notebook  |\n",
    "| RStudio           |\n",
    "| Apache Zeppelin   |\n"
   ]
  },
  {
   "cell_type": "code",
   "execution_count": 16,
   "id": "989f683f-e4c4-4b36-b27e-c59294e587f5",
   "metadata": {},
   "outputs": [],
   "source": [
    "# Exercise 7 - Create a markdown cell introducing arithmetic expression examples"
   ]
  },
  {
   "cell_type": "markdown",
   "id": "07387de0-1591-49ef-acec-4bd935fcc4b1",
   "metadata": {},
   "source": [
    "### Below are a few examples of evaluating arithmetic expressions in Python.\n"
   ]
  },
  {
   "cell_type": "code",
   "execution_count": 19,
   "id": "5a1bf791-6203-4a39-8075-b9cc6f38e83a",
   "metadata": {},
   "outputs": [],
   "source": [
    "# Exercise 8 - Create a code cell to multiply and add numbers"
   ]
  },
  {
   "cell_type": "markdown",
   "id": "f7a28b66-8aad-4c7a-a00e-baf8c95a4bbc",
   "metadata": {},
   "source": [
    "# This is a simple arithmetic expression to multiply then add integers\n",
    "(3 * 4) + 5\n"
   ]
  },
  {
   "cell_type": "code",
   "execution_count": 22,
   "id": "b602a356-aec1-4b2b-8da5-53d16adb8e6f",
   "metadata": {},
   "outputs": [],
   "source": [
    "# Exercise 9 - Create a code cell to convert minutes to hours"
   ]
  },
  {
   "cell_type": "code",
   "execution_count": 24,
   "id": "9c9b831a-8131-4508-a05a-642dd3b04ce8",
   "metadata": {},
   "outputs": [
    {
     "data": {
      "text/plain": [
       "3.3333333333333335"
      ]
     },
     "execution_count": 24,
     "metadata": {},
     "output_type": "execute_result"
    }
   ],
   "source": [
    "# This will convert 200 minutes to hours by dividing by 60\n",
    "200 / 60\n"
   ]
  },
  {
   "cell_type": "code",
   "execution_count": 26,
   "id": "41f1446b-83c2-4b34-ac1a-3e21c6e59340",
   "metadata": {},
   "outputs": [],
   "source": [
    "# Exercise 10 - Insert a markdown cell to list Objectives"
   ]
  },
  {
   "cell_type": "markdown",
   "id": "9f801745-3bfb-46c5-8814-b8eb586a166b",
   "metadata": {},
   "source": [
    "**Objectives:**\n",
    "\n",
    "- List popular languages for Data Science  \n",
    "- Identify commonly used libraries in Data Science  \n",
    "- Explore open-source development tools for Data Science  \n",
    "- Evaluate arithmetic expressions in Python  \n",
    "- Convert time units using Python expressions  \n"
   ]
  },
  {
   "cell_type": "code",
   "execution_count": 31,
   "id": "f365b2f0-9c80-448f-9f12-b0612e0b520b",
   "metadata": {},
   "outputs": [],
   "source": [
    "# Exercise 11 - Create a markdown cell to indicate the Author's name"
   ]
  },
  {
   "cell_type": "markdown",
   "id": "01a379d7-2a6d-4ef0-8259-b13bd0df7342",
   "metadata": {},
   "source": [
    "## Author  \n",
    "Aishwarya Dhanake  \n"
   ]
  },
  {
   "cell_type": "code",
   "execution_count": null,
   "id": "a0eb43b5-d0e6-4d7c-823e-b2f241747042",
   "metadata": {},
   "outputs": [],
   "source": []
  }
 ],
 "metadata": {
  "kernelspec": {
   "display_name": "Python 3 (ipykernel)",
   "language": "python",
   "name": "python3"
  },
  "language_info": {
   "codemirror_mode": {
    "name": "ipython",
    "version": 3
   },
   "file_extension": ".py",
   "mimetype": "text/x-python",
   "name": "python",
   "nbconvert_exporter": "python",
   "pygments_lexer": "ipython3",
   "version": "3.12.7"
  }
 },
 "nbformat": 4,
 "nbformat_minor": 5
}
